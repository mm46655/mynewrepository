{
  "nbformat": 4,
  "nbformat_minor": 0,
  "metadata": {
    "kernelspec": {
      "display_name": "Python 3",
      "language": "python",
      "name": "python3"
    },
    "language_info": {
      "codemirror_mode": {
        "name": "ipython",
        "version": 3
      },
      "file_extension": ".py",
      "mimetype": "text/x-python",
      "name": "python",
      "nbconvert_exporter": "python",
      "pygments_lexer": "ipython3",
      "version": "3.5.2"
    },
    "colab": {
      "name": "Copy of Best_Available_Pixel_Composite.ipynb",
      "provenance": [],
      "collapsed_sections": [],
      "toc_visible": true,
      "include_colab_link": true
    }
  },
  "cells": [
    {
      "cell_type": "markdown",
      "metadata": {
        "id": "view-in-github",
        "colab_type": "text"
      },
      "source": [
        "<a href=\"https://colab.research.google.com/github/mm46655/mynewrepository/blob/master/Copy_of_Best_Available_Pixel_Composite.ipynb\" target=\"_parent\"><img src=\"https://colab.research.google.com/assets/colab-badge.svg\" alt=\"Open In Colab\"/></a>"
      ]
    },
    {
      "cell_type": "markdown",
      "metadata": {
        "id": "_klJJpYokgfr",
        "colab_type": "text"
      },
      "source": [
        "# BEST AVAILABLE PIXEL COMPOSITE (BAP) *in Google Earth Engine Python API*\n",
        "based on *Pixel-Based Image Compositing for Large-Area Dense\n",
        "Time Series Applications and Science (White, 2014)*\n",
        "https://goo.gl/Fi8fCY"
      ]
    },
    {
      "cell_type": "code",
      "metadata": {
        "id": "fDowD84WkoG_",
        "colab_type": "code",
        "outputId": "924ef3f9-cc3c-4582-d4d6-db864556ccc2",
        "colab": {
          "base_uri": "https://localhost:8080/",
          "height": 558
        }
      },
      "source": [
        "!pip install earthengine-api==0.1.175 #earth-engine Python API"
      ],
      "execution_count": 1,
      "outputs": [
        {
          "output_type": "stream",
          "text": [
            "Collecting earthengine-api==0.1.175\n",
            "\u001b[?25l  Downloading https://files.pythonhosted.org/packages/31/ce/d4d645e820d172a655b41968d8126aa3ae924ecebe290f578f54248a7298/earthengine-api-0.1.175.tar.gz (115kB)\n",
            "\u001b[K     |████████████████████████████████| 122kB 9.8MB/s \n",
            "\u001b[?25hRequirement already satisfied: google-api-python-client in /usr/local/lib/python3.6/dist-packages (from earthengine-api==0.1.175) (1.7.11)\n",
            "Collecting pyOpenSSL>=0.11\n",
            "\u001b[?25l  Downloading https://files.pythonhosted.org/packages/9e/de/f8342b68fa9e981d348039954657bdf681b2ab93de27443be51865ffa310/pyOpenSSL-19.1.0-py2.py3-none-any.whl (53kB)\n",
            "\u001b[K     |████████████████████████████████| 61kB 8.2MB/s \n",
            "\u001b[?25hRequirement already satisfied: six in /usr/local/lib/python3.6/dist-packages (from earthengine-api==0.1.175) (1.12.0)\n",
            "Requirement already satisfied: uritemplate<4dev,>=3.0.0 in /usr/local/lib/python3.6/dist-packages (from google-api-python-client->earthengine-api==0.1.175) (3.0.1)\n",
            "Requirement already satisfied: google-auth>=1.4.1 in /usr/local/lib/python3.6/dist-packages (from google-api-python-client->earthengine-api==0.1.175) (1.4.2)\n",
            "Requirement already satisfied: google-auth-httplib2>=0.0.3 in /usr/local/lib/python3.6/dist-packages (from google-api-python-client->earthengine-api==0.1.175) (0.0.3)\n",
            "Requirement already satisfied: httplib2<1dev,>=0.9.2 in /usr/local/lib/python3.6/dist-packages (from google-api-python-client->earthengine-api==0.1.175) (0.11.3)\n",
            "Collecting cryptography>=2.8\n",
            "\u001b[?25l  Downloading https://files.pythonhosted.org/packages/ca/9a/7cece52c46546e214e10811b36b2da52ce1ea7fa203203a629b8dfadad53/cryptography-2.8-cp34-abi3-manylinux2010_x86_64.whl (2.3MB)\n",
            "\u001b[K     |████████████████████████████████| 2.3MB 22.8MB/s \n",
            "\u001b[?25hRequirement already satisfied: pyasn1-modules>=0.2.1 in /usr/local/lib/python3.6/dist-packages (from google-auth>=1.4.1->google-api-python-client->earthengine-api==0.1.175) (0.2.7)\n",
            "Requirement already satisfied: rsa>=3.1.4 in /usr/local/lib/python3.6/dist-packages (from google-auth>=1.4.1->google-api-python-client->earthengine-api==0.1.175) (4.0)\n",
            "Requirement already satisfied: cachetools>=2.0.0 in /usr/local/lib/python3.6/dist-packages (from google-auth>=1.4.1->google-api-python-client->earthengine-api==0.1.175) (4.0.0)\n",
            "Requirement already satisfied: cffi!=1.11.3,>=1.8 in /usr/local/lib/python3.6/dist-packages (from cryptography>=2.8->pyOpenSSL>=0.11->earthengine-api==0.1.175) (1.13.2)\n",
            "Requirement already satisfied: pyasn1<0.5.0,>=0.4.6 in /usr/local/lib/python3.6/dist-packages (from pyasn1-modules>=0.2.1->google-auth>=1.4.1->google-api-python-client->earthengine-api==0.1.175) (0.4.8)\n",
            "Requirement already satisfied: pycparser in /usr/local/lib/python3.6/dist-packages (from cffi!=1.11.3,>=1.8->cryptography>=2.8->pyOpenSSL>=0.11->earthengine-api==0.1.175) (2.19)\n",
            "Building wheels for collected packages: earthengine-api\n",
            "  Building wheel for earthengine-api (setup.py) ... \u001b[?25l\u001b[?25hdone\n",
            "  Created wheel for earthengine-api: filename=earthengine_api-0.1.175-cp36-none-any.whl size=144180 sha256=744ab493f2cd66219c164569aae4e8ad880de7eca79b455393fecd1964a342f1\n",
            "  Stored in directory: /root/.cache/pip/wheels/ee/b9/f9/7278e3dd64c0520f3658c9404ade74ab2a06b9b104e6de16f6\n",
            "Successfully built earthengine-api\n",
            "Installing collected packages: cryptography, pyOpenSSL, earthengine-api\n",
            "  Found existing installation: earthengine-api 0.1.209\n",
            "    Uninstalling earthengine-api-0.1.209:\n",
            "      Successfully uninstalled earthengine-api-0.1.209\n",
            "Successfully installed cryptography-2.8 earthengine-api-0.1.175 pyOpenSSL-19.1.0\n"
          ],
          "name": "stdout"
        }
      ]
    },
    {
      "cell_type": "code",
      "metadata": {
        "id": "co2PFcHUkvQv",
        "colab_type": "code",
        "outputId": "c73c9d7f-75c6-402c-83d3-604fdcebc890",
        "colab": {
          "base_uri": "https://localhost:8080/",
          "height": 188
        }
      },
      "source": [
        "!earthengine authenticate "
      ],
      "execution_count": 2,
      "outputs": [
        {
          "output_type": "stream",
          "text": [
            "Opening the following address in a web browser:\n",
            "\n",
            "    https://accounts.google.com/o/oauth2/auth?client_id=517222506229-vsmmajv00ul0bs7p89v5m89qs8eb9359.apps.googleusercontent.com&scope=https%3A%2F%2Fwww.googleapis.com%2Fauth%2Fearthengine+https%3A%2F%2Fwww.googleapis.com%2Fauth%2Fdevstorage.full_control&redirect_uri=urn%3Aietf%3Awg%3Aoauth%3A2.0%3Aoob&response_type=code\n",
            "\n",
            "Please authorize access to your Earth Engine account, and paste the generated code below. If the web browser does not start, please manually browse the URL above.\n",
            "\n",
            "Please enter authorization code: 4/vwH_ncGIDECcPJ4I21PDyVQkKRG8MoXZkk37SaxIWhtItEYEZdMFpiU\n",
            "\n",
            "Successfully saved authorization token.\n"
          ],
          "name": "stdout"
        }
      ]
    },
    {
      "cell_type": "code",
      "metadata": {
        "id": "Ww0GT3upk1Hh",
        "colab_type": "code",
        "outputId": "bbdff592-5ec2-4259-b12c-d7980e0e490a",
        "colab": {
          "base_uri": "https://localhost:8080/",
          "height": 121
        }
      },
      "source": [
        "from google.colab import drive\n",
        "drive.mount('/content/drive')"
      ],
      "execution_count": 3,
      "outputs": [
        {
          "output_type": "stream",
          "text": [
            "Go to this URL in a browser: https://accounts.google.com/o/oauth2/auth?client_id=947318989803-6bn6qk8qdgf4n4g3pfee6491hc0brc4i.apps.googleusercontent.com&redirect_uri=urn%3aietf%3awg%3aoauth%3a2.0%3aoob&response_type=code&scope=email%20https%3a%2f%2fwww.googleapis.com%2fauth%2fdocs.test%20https%3a%2f%2fwww.googleapis.com%2fauth%2fdrive%20https%3a%2f%2fwww.googleapis.com%2fauth%2fdrive.photos.readonly%20https%3a%2f%2fwww.googleapis.com%2fauth%2fpeopleapi.readonly\n",
            "\n",
            "Enter your authorization code:\n",
            "··········\n",
            "Mounted at /content/drive\n"
          ],
          "name": "stdout"
        }
      ]
    },
    {
      "cell_type": "code",
      "metadata": {
        "id": "uIDJy_JG7Jns",
        "colab_type": "code",
        "colab": {}
      },
      "source": [
        "from google.colab import auth\n",
        "auth.authenticate_user()"
      ],
      "execution_count": 0,
      "outputs": []
    },
    {
      "cell_type": "code",
      "metadata": {
        "id": "7ZRk1tiTk5Ew",
        "colab_type": "code",
        "colab": {}
      },
      "source": [
        "# Earth Engine Python API\n",
        "import ee\n",
        "ee.Initialize()"
      ],
      "execution_count": 0,
      "outputs": []
    },
    {
      "cell_type": "code",
      "metadata": {
        "id": "DidjVNTvk-u7",
        "colab_type": "code",
        "outputId": "4498eb12-d174-40be-e1ad-93f6181b2d3c",
        "colab": {
          "base_uri": "https://localhost:8080/",
          "height": 34
        }
      },
      "source": [
        "import folium\n",
        "\n",
        "# Define the URL format used for Earth Engine generated map tiles.\n",
        "EE_TILES = 'https://earthengine.googleapis.com/map/{mapid}/{{z}}/{{x}}/{{y}}?token={token}'\n",
        "\n",
        "print('Folium version: ' + folium.__version__)"
      ],
      "execution_count": 8,
      "outputs": [
        {
          "output_type": "stream",
          "text": [
            "Folium version: 0.8.3\n"
          ],
          "name": "stdout"
        }
      ]
    },
    {
      "cell_type": "code",
      "metadata": {
        "id": "q3TIPmEW7Vvq",
        "colab_type": "code",
        "colab": {},
        "cellView": "form"
      },
      "source": [
        "#@title Mapdisplay: Display GEE objects using folium.\n",
        "def Mapdisplay(center, dicc, Tiles=\"OpensTreetMap\",zoom_start=10):\n",
        "    '''\n",
        "    :param center: Center of the map (Latitude and Longitude).\n",
        "    :param dicc: Earth Engine Geometries or Tiles dictionary\n",
        "    :param Tiles: Mapbox Bright,Mapbox Control Room,Stamen Terrain,Stamen Toner,stamenwatercolor,cartodbpositron.\n",
        "    :zoom_start: Initial zoom level for the map.\n",
        "    :return: A folium.Map object.\n",
        "    '''\n",
        "    mapViz = folium.Map(location=center,tiles=Tiles, zoom_start=zoom_start)\n",
        "    for k,v in dicc.items():\n",
        "      if ee.image.Image in [type(x) for x in v.values()]:\n",
        "        folium.TileLayer(\n",
        "            tiles = EE_TILES.format(**v),\n",
        "            attr  = 'Google Earth Engine',\n",
        "            overlay =True,\n",
        "            name  = k\n",
        "          ).add_to(mapViz)\n",
        "      else:\n",
        "        folium.GeoJson(\n",
        "        data = v,\n",
        "        name = k\n",
        "          ).add_to(mapViz)\n",
        "    mapViz.add_child(folium.LayerControl())\n",
        "    return mapViz"
      ],
      "execution_count": 0,
      "outputs": []
    },
    {
      "cell_type": "code",
      "metadata": {
        "id": "DZkeFezYlBbq",
        "colab_type": "code",
        "outputId": "d4151c03-ffa6-4a6b-d852-82b79ffb7cd9",
        "colab": {
          "base_uri": "https://localhost:8080/",
          "height": 675
        }
      },
      "source": [
        "pip install geebap"
      ],
      "execution_count": 6,
      "outputs": [
        {
          "output_type": "stream",
          "text": [
            "Collecting geebap\n",
            "\u001b[?25l  Downloading https://files.pythonhosted.org/packages/dd/c3/356f2520f5a813349c38c70e74c3b54872e27c24be1307b04b4388e63c6c/geebap-0.2.5.tar.gz (46kB)\n",
            "\r\u001b[K     |███████                         | 10kB 14.4MB/s eta 0:00:01\r\u001b[K     |██████████████▏                 | 20kB 6.8MB/s eta 0:00:01\r\u001b[K     |█████████████████████▏          | 30kB 9.2MB/s eta 0:00:01\r\u001b[K     |████████████████████████████▎   | 40kB 6.1MB/s eta 0:00:01\r\u001b[K     |████████████████████████████████| 51kB 3.7MB/s \n",
            "\u001b[?25hRequirement already satisfied: requests in /usr/local/lib/python3.6/dist-packages (from geebap) (2.21.0)\n",
            "Collecting simpleeval\n",
            "  Downloading https://files.pythonhosted.org/packages/62/25/aec98426834844b70b7ab24b4cce8655d31e654f58e1fa9861533f5f2af1/simpleeval-0.9.10.tar.gz\n",
            "Requirement already satisfied: numpy in /usr/local/lib/python3.6/dist-packages (from geebap) (1.17.5)\n",
            "Collecting geetools>=0.2.2\n",
            "\u001b[?25l  Downloading https://files.pythonhosted.org/packages/7b/2a/e70f2cddfc6e2372edcee29579f182d32fa4a03f8eafd38b74e97f7f7226/geetools-0.4.13.tar.gz (73kB)\n",
            "\u001b[K     |████████████████████████████████| 81kB 7.6MB/s \n",
            "\u001b[?25hRequirement already satisfied: chardet<3.1.0,>=3.0.2 in /usr/local/lib/python3.6/dist-packages (from requests->geebap) (3.0.4)\n",
            "Requirement already satisfied: certifi>=2017.4.17 in /usr/local/lib/python3.6/dist-packages (from requests->geebap) (2019.11.28)\n",
            "Requirement already satisfied: urllib3<1.25,>=1.21.1 in /usr/local/lib/python3.6/dist-packages (from requests->geebap) (1.24.3)\n",
            "Requirement already satisfied: idna<2.9,>=2.5 in /usr/local/lib/python3.6/dist-packages (from requests->geebap) (2.8)\n",
            "Requirement already satisfied: Pillow in /usr/local/lib/python3.6/dist-packages (from geetools>=0.2.2->geebap) (6.2.2)\n",
            "Collecting pyshp\n",
            "\u001b[?25l  Downloading https://files.pythonhosted.org/packages/27/16/3bf15aa864fb77845fab8007eda22c2bd67bd6c1fd13496df452c8c43621/pyshp-2.1.0.tar.gz (215kB)\n",
            "\u001b[K     |████████████████████████████████| 225kB 26.9MB/s \n",
            "\u001b[?25hRequirement already satisfied: pandas in /usr/local/lib/python3.6/dist-packages (from geetools>=0.2.2->geebap) (0.25.3)\n",
            "Requirement already satisfied: pytz>=2017.2 in /usr/local/lib/python3.6/dist-packages (from pandas->geetools>=0.2.2->geebap) (2018.9)\n",
            "Requirement already satisfied: python-dateutil>=2.6.1 in /usr/local/lib/python3.6/dist-packages (from pandas->geetools>=0.2.2->geebap) (2.6.1)\n",
            "Requirement already satisfied: six>=1.5 in /usr/local/lib/python3.6/dist-packages (from python-dateutil>=2.6.1->pandas->geetools>=0.2.2->geebap) (1.12.0)\n",
            "Building wheels for collected packages: geebap, simpleeval, geetools, pyshp\n",
            "  Building wheel for geebap (setup.py) ... \u001b[?25l\u001b[?25hdone\n",
            "  Created wheel for geebap: filename=geebap-0.2.5-cp36-none-any.whl size=50433 sha256=eaa9b244fc9e11a599b216fd15a0311da98f4dd9529b7be32e7b33683426b969\n",
            "  Stored in directory: /root/.cache/pip/wheels/60/ab/25/8865b36541224338cbc0e7f6e19cbf437b5d84aacfd572083d\n",
            "  Building wheel for simpleeval (setup.py) ... \u001b[?25l\u001b[?25hdone\n",
            "  Created wheel for simpleeval: filename=simpleeval-0.9.10-cp36-none-any.whl size=13758 sha256=5b32d35fe2c7191ead5dc369faef8f9726eab2d51694c524f62b61013aa6e825\n",
            "  Stored in directory: /root/.cache/pip/wheels/20/ab/91/eeb7746161f88e6ea897483494ab6034ebce9884b8f2dea7e5\n",
            "  Building wheel for geetools (setup.py) ... \u001b[?25l\u001b[?25hdone\n",
            "  Created wheel for geetools: filename=geetools-0.4.13-cp36-none-any.whl size=96146 sha256=e3b93d7b84433ed7ae50240d8e203eb7bc1b8d9c3ac142c55c992ec7f17fd4dd\n",
            "  Stored in directory: /root/.cache/pip/wheels/02/89/a3/1cceb1525740f73dd5caa9e09cb8821f1113881ca84832fee6\n",
            "  Building wheel for pyshp (setup.py) ... \u001b[?25l\u001b[?25hdone\n",
            "  Created wheel for pyshp: filename=pyshp-2.1.0-cp36-none-any.whl size=32607 sha256=292a5bf2a253cf2dbd2e87111e8228adbdf062ecdd976ccc16854f3c7c459b22\n",
            "  Stored in directory: /root/.cache/pip/wheels/a6/0c/de/321b5192ad416b328975a2f0385f72c64db4656501eba7cc1a\n",
            "Successfully built geebap simpleeval geetools pyshp\n",
            "Installing collected packages: simpleeval, pyshp, geetools, geebap\n",
            "Successfully installed geebap-0.2.5 geetools-0.4.13 pyshp-2.1.0 simpleeval-0.9.10\n"
          ],
          "name": "stdout"
        }
      ]
    },
    {
      "cell_type": "markdown",
      "metadata": {
        "id": "hpD_K8A5kghD",
        "colab_type": "text"
      },
      "source": [
        "### Map of Any Image within Study Site"
      ]
    },
    {
      "cell_type": "code",
      "metadata": {
        "id": "1YICI8IuzbCv",
        "colab_type": "code",
        "outputId": "47c0b07f-032b-4ed5-8981-c43ca8c150ae",
        "colab": {
          "base_uri": "https://localhost:8080/",
          "height": 694
        }
      },
      "source": [
        "# Load a Landsat 8 ImageCollection for a single path-row.\n",
        "collection = ee.ImageCollection('LANDSAT/LC08/C01/T1_SR')\\\n",
        "  .filterDate('2019-05-01', '2019-09-30')\\\n",
        "  .filterBounds(ee.Geometry.Polygon(-76.68783507813652,35.27929957693104,\\\n",
        "  -75.64413390626152,35.27929957693104,\\\n",
        "  -75.64413390626152,36.02026592377204,\\\n",
        "  -76.68783507813652,36.02026592377204,\\\n",
        "  -76.68783507813652,35.27929957693104))\n",
        "\n",
        "# Sort by a cloud cover property, get the least cloudy image.\n",
        "image = ee.Image(collection.sort('CLOUD_COVER').first())\n",
        "print('Least cloudy image: ', )\n",
        "image.getInfo()\n",
        "\n",
        "first=collection.first()\n",
        "first.getInfo()\n",
        "\n",
        "dicc = {\n",
        "    'Least Cloudy' : image.getMapId({'bands': ['B4', 'B3', 'B2'],'min':0,'max':2000}),\n",
        "    'First Image': first.getMapId({'bands': ['B4','B3','B2'],'min':0,'max':2000})\n",
        "}\n",
        "\n",
        "# Display the results\n",
        "center = [ 35.69,-75.22]\n",
        "Mapdisplay(center, dicc, zoom_start= 9)\n"
      ],
      "execution_count": 10,
      "outputs": [
        {
          "output_type": "stream",
          "text": [
            "Least cloudy image: \n"
          ],
          "name": "stdout"
        },
        {
          "output_type": "execute_result",
          "data": {
            "text/html": [
              "<div style=\"width:100%;\"><div style=\"position:relative;width:100%;height:0;padding-bottom:60%;\"><iframe src=\"data:text/html;charset=utf-8;base64,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\" style=\"position:absolute;width:100%;height:100%;left:0;top:0;border:none !important;\" allowfullscreen webkitallowfullscreen mozallowfullscreen></iframe></div></div>"
            ],
            "text/plain": [
              "<folium.folium.Map at 0x7f8272d02668>"
            ]
          },
          "metadata": {
            "tags": []
          },
          "execution_count": 10
        }
      ]
    },
    {
      "cell_type": "code",
      "metadata": {
        "id": "F5VHlzMlkghD",
        "colab_type": "code",
        "outputId": "bc4f10a5-878b-464c-cf14-53d4afb73fe3",
        "colab": {
          "base_uri": "https://localhost:8080/",
          "height": 1000
        }
      },
      "source": [
        "import geebap\n",
        "from geetools import tools\n",
        "\n",
        "import pprint\n",
        "pp = pprint.PrettyPrinter(indent=2)\n",
        "\n",
        "# SEASON\n",
        "a_season = geebap.Season('05-15', '09-15')\n",
        "\n",
        "# MASKS\n",
        "cld_mask = geebap.masks.Mask()\n",
        "\n",
        "# Combine masks in a tuple\n",
        "masks = (cld_mask,)\n",
        "\n",
        "# FILTERS\n",
        "filt_cld = geebap.filters.CloudCover()\n",
        "# filt_mask = geebap.filters.MaskCover() # Doesn't work\n",
        "\n",
        "# Combine filters in a tuple\n",
        "filters = (filt_cld,)#, filt_mask)\n",
        "\n",
        "# SCORES\n",
        "best_doy = geebap.scores.Doy('06-15', a_season)\n",
        "sat = geebap.scores.Satellite()\n",
        "out = geebap.scores.Outliers((\"ndvi\",))\n",
        "ind = geebap.scores.Index(\"ndvi\")\n",
        "maskpercent = geebap.scores.MaskPercentKernel()\n",
        "dist = geebap.scores.CloudDist()\n",
        "\n",
        "# Combine scores in a tuple\n",
        "scores = (\n",
        "    best_doy,\n",
        "    sat,\n",
        "    out,\n",
        "    ind,\n",
        "    maskpercent,\n",
        "    dist\n",
        ")\n",
        "\n",
        "# BAP OBJECT\n",
        "BAP = geebap.Bap(range=(0, 0),\n",
        "                 season=a_season,\n",
        "                 masks=masks,\n",
        "                 scores=scores,\n",
        "                 filters=filters)\n",
        "\n",
        "# SITE\n",
        "site = ee.Geometry.Polygon(-76.68783507813652,35.27929957693104,\\\n",
        "  -75.64413390626152,35.27929957693104,\\\n",
        "  -75.64413390626152,36.02026592377204,\\\n",
        "  -76.68783507813652,36.02026592377204,\\\n",
        "  -76.68783507813652,35.27929957693104)\n",
        "#site = ee.Geometry.Polygon(-76.42881419914642,35.30148730801318,\n",
        "#   -76.04017284172454,35.30148730801318,\n",
        "#   -76.04017284172454,35.459362004001804,\n",
        "#   -76.42881419914642,35.459362004001804,\n",
        "#   -76.42881419914642,35.30148730801318)\n",
        "\n",
        "# COMPOSITE\n",
        "composite = BAP.build_composite_best(2019, site=site, indices=(\"ndvi\",))\n",
        "\n",
        "composite.getInfo()\n"
      ],
      "execution_count": 88,
      "outputs": [
        {
          "output_type": "execute_result",
          "data": {
            "text/plain": [
              "{'bands': [{'crs': 'EPSG:4326',\n",
              "   'crs_transform': [1.0, 0.0, 0.0, 0.0, 1.0, 0.0],\n",
              "   'data_type': {'max': 32767,\n",
              "    'min': -32768,\n",
              "    'precision': 'int',\n",
              "    'type': 'PixelType'},\n",
              "   'id': 'red'},\n",
              "  {'crs': 'EPSG:4326',\n",
              "   'crs_transform': [1.0, 0.0, 0.0, 0.0, 1.0, 0.0],\n",
              "   'data_type': {'max': 32767,\n",
              "    'min': -32768,\n",
              "    'precision': 'int',\n",
              "    'type': 'PixelType'},\n",
              "   'id': 'swir2'},\n",
              "  {'crs': 'EPSG:4326',\n",
              "   'crs_transform': [1.0, 0.0, 0.0, 0.0, 1.0, 0.0],\n",
              "   'data_type': {'max': 32767,\n",
              "    'min': -32768,\n",
              "    'precision': 'int',\n",
              "    'type': 'PixelType'},\n",
              "   'id': 'nir'},\n",
              "  {'crs': 'EPSG:4326',\n",
              "   'crs_transform': [1.0, 0.0, 0.0, 0.0, 1.0, 0.0],\n",
              "   'data_type': {'max': 32767,\n",
              "    'min': -32768,\n",
              "    'precision': 'int',\n",
              "    'type': 'PixelType'},\n",
              "   'id': 'blue'},\n",
              "  {'crs': 'EPSG:4326',\n",
              "   'crs_transform': [1.0, 0.0, 0.0, 0.0, 1.0, 0.0],\n",
              "   'data_type': {'max': 32767,\n",
              "    'min': -32768,\n",
              "    'precision': 'int',\n",
              "    'type': 'PixelType'},\n",
              "   'id': 'thermal'},\n",
              "  {'crs': 'EPSG:4326',\n",
              "   'crs_transform': [1.0, 0.0, 0.0, 0.0, 1.0, 0.0],\n",
              "   'data_type': {'max': 32767,\n",
              "    'min': -32768,\n",
              "    'precision': 'int',\n",
              "    'type': 'PixelType'},\n",
              "   'id': 'green'},\n",
              "  {'crs': 'EPSG:4326',\n",
              "   'crs_transform': [1.0, 0.0, 0.0, 0.0, 1.0, 0.0],\n",
              "   'data_type': {'max': 32767,\n",
              "    'min': -32768,\n",
              "    'precision': 'int',\n",
              "    'type': 'PixelType'},\n",
              "   'id': 'swir'},\n",
              "  {'crs': 'EPSG:4326',\n",
              "   'crs_transform': [1.0, 0.0, 0.0, 0.0, 1.0, 0.0],\n",
              "   'data_type': {'max': 255,\n",
              "    'min': 0,\n",
              "    'precision': 'int',\n",
              "    'type': 'PixelType'},\n",
              "   'id': 'col_id'},\n",
              "  {'crs': 'EPSG:4326',\n",
              "   'crs_transform': [1.0, 0.0, 0.0, 0.0, 1.0, 0.0],\n",
              "   'data_type': {'max': 4294967295,\n",
              "    'min': 0,\n",
              "    'precision': 'int',\n",
              "    'type': 'PixelType'},\n",
              "   'id': 'date'},\n",
              "  {'crs': 'EPSG:4326',\n",
              "   'crs_transform': [1.0, 0.0, 0.0, 0.0, 1.0, 0.0],\n",
              "   'data_type': {'precision': 'float', 'type': 'PixelType'},\n",
              "   'id': 'ndvi'},\n",
              "  {'crs': 'EPSG:4326',\n",
              "   'crs_transform': [1.0, 0.0, 0.0, 0.0, 1.0, 0.0],\n",
              "   'data_type': {'precision': 'float', 'type': 'PixelType'},\n",
              "   'id': 'score'}],\n",
              " 'properties': {'BAP_FILTERS': '[\"CloudCover(**{\\'percent\\': 70})\"]',\n",
              "  'BAP_MASKS': '[\"Mask(**{\\'options\\': (\\'cloud\\', \\'shadow\\', \\'snow\\')})\"]',\n",
              "  'BAP_SCORES': '[\"Doy(**{\\'name\\': \\'score-best_doy\\', \\'function\\': \\'linear\\', \\'stretch\\': 1, \\'best_doy\\': \\'06-15\\', \\'season\\': <geebap.season.Season object at 0x7f801666ba90>})\", \"Satellite(**{\\'name\\': \\'score-sat\\', \\'ratio\\': 0.05})\", \"Outliers(**{\\'name\\': \\'score-outlier\\', \\'bands\\': (\\'ndvi\\',), \\'process\\': \\'median\\', \\'dist\\': 0.7})\", \"Index(**{\\'name\\': \\'score-index\\', \\'index\\': \\'ndvi\\', \\'function\\': \\'linear\\', \\'target\\': 0.8, \\'stretch\\': 1})\", \"MaskPercentKernel(**{\\'name\\': \\'score-maskper-kernel\\', \\'kernel\\': \\'square\\', \\'distance\\': 255, \\'units\\': \\'pixels\\'})\", \"CloudDist(**{\\'name\\': \\'score-cld-dist\\', \\'dmax\\': None, \\'dmin\\': 0})\"]',\n",
              "  'BAP_SEASON_2019': '2019-05-15 to 2019-09-15',\n",
              "  'BAP_VERSION': '0.2.5',\n",
              "  'system:footprint': {'coordinates': [[[-76.42881419914642,\n",
              "      35.429170145000874],\n",
              "     [-76.42881419914642, 35.30148730801318],\n",
              "     [-76.06990691858672, 35.3015312295791],\n",
              "     [-76.04017284172454, 35.30148730801318],\n",
              "     [-76.04017284172454, 35.36698686482142],\n",
              "     [-76.04017284172454, 35.367592383498256],\n",
              "     [-76.04017284172454, 35.371108576759696],\n",
              "     [-76.04017284172454, 35.410626687637794],\n",
              "     [-76.04017284172454, 35.43876439000944],\n",
              "     [-76.04017284172454, 35.44633579116433],\n",
              "     [-76.04017284172454, 35.447041248611],\n",
              "     [-76.04017284172454, 35.44855438137134],\n",
              "     [-76.04017284172454, 35.448982377884604],\n",
              "     [-76.04017284172454, 35.44976010912674],\n",
              "     [-76.04017284172454, 35.459362004001804],\n",
              "     [-76.24932198376557, 35.45951680643205],\n",
              "     [-76.27703788249504, 35.45951024934621],\n",
              "     [-76.29355206913905, 35.45950333041456],\n",
              "     [-76.293593961943, 35.45950331000273],\n",
              "     [-76.42881419914642, 35.459362004001804],\n",
              "     [-76.42881419914642, 35.429170145000874]]],\n",
              "   'type': 'Polygon'},\n",
              "  'system:time_start': 1546300800000},\n",
              " 'type': 'Image'}"
            ]
          },
          "metadata": {
            "tags": []
          },
          "execution_count": 88
        }
      ]
    },
    {
      "cell_type": "code",
      "metadata": {
        "id": "VRsU4QBbG9pi",
        "colab_type": "code",
        "colab": {
          "base_uri": "https://localhost:8080/",
          "height": 34
        },
        "outputId": "b010bd9d-56a7-4f9b-9254-540fc5489998"
      },
      "source": [
        "#print(site.getInfo()['coordinates'])\n",
        "mid = site.centroid()\n",
        "center1 = mid.getInfo()['coordinates']\n",
        "center = reversed(center1)\n",
        "print(list(center))"
      ],
      "execution_count": 102,
      "outputs": [
        {
          "output_type": "stream",
          "text": [
            "[35.38055447188363, -76.23449352043582]\n"
          ],
          "name": "stdout"
        }
      ]
    },
    {
      "cell_type": "code",
      "metadata": {
        "id": "nnqp_86xkghF",
        "colab_type": "code",
        "outputId": "5d315f6f-4ee9-408d-b7f9-1b8193d8709a",
        "colab": {
          "base_uri": "https://localhost:8080/",
          "height": 677
        }
      },
      "source": [
        "bands = {\n",
        "    'Image' : composite.getMapId({'bands': ['ndvi']})\n",
        "}\n",
        "\n",
        "#bands = composite.getMapId({\n",
        "#    'bands': ['red','green','blue'], \n",
        "#    'min': 0, \n",
        "#    'max': 4000})\n",
        "Mapdisplay(center,bands,zoom_start=9)\n"
      ],
      "execution_count": 104,
      "outputs": [
        {
          "output_type": "execute_result",
          "data": {
            "text/html": [
              "<div style=\"width:100%;\"><div style=\"position:relative;width:100%;height:0;padding-bottom:60%;\"><iframe src=\"data:text/html;charset=utf-8;base64,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\" style=\"position:absolute;width:100%;height:100%;left:0;top:0;border:none !important;\" allowfullscreen webkitallowfullscreen mozallowfullscreen></iframe></div></div>"
            ],
            "text/plain": [
              "<folium.folium.Map at 0x7f801666b080>"
            ]
          },
          "metadata": {
            "tags": []
          },
          "execution_count": 104
        }
      ]
    },
    {
      "cell_type": "code",
      "metadata": {
        "id": "bZvUoaNYEVp4",
        "colab_type": "code",
        "colab": {}
      },
      "source": [
        "pip install geetools\n"
      ],
      "execution_count": 0,
      "outputs": []
    },
    {
      "cell_type": "code",
      "metadata": {
        "id": "1REhq7bzJMwt",
        "colab_type": "code",
        "colab": {}
      },
      "source": [
        "from geetools import batch"
      ],
      "execution_count": 0,
      "outputs": []
    },
    {
      "cell_type": "code",
      "metadata": {
        "id": "jhcKHCzk_yTd",
        "colab_type": "code",
        "colab": {}
      },
      "source": [
        "sAPP = ee.Geometry.Polygon(-76.42881419914642,35.30148730801318,\n",
        "   -76.04017284172454,35.30148730801318,\n",
        "   -76.04017284172454,35.459362004001804,\n",
        "   -76.42881419914642,35.459362004001804,\n",
        "   -76.42881419914642,35.30148730801318)\n",
        "pppAPP = ee.Geometry.Polygon(-76.31338582346655,35.87036027390846,\n",
        "    -76.00164876291967,35.87036027390846,\n",
        "    -76.00164876291967,36.00378840591169,\n",
        "    -76.31338582346655,36.00378840591169,\n",
        "    -76.31338582346655,35.87036027390846)\n",
        "\n",
        "fc = ee.FeatureCollection([sAPP,pppAPP])"
      ],
      "execution_count": 0,
      "outputs": []
    },
    {
      "cell_type": "code",
      "metadata": {
        "id": "AC1Ii15SkghH",
        "colab_type": "code",
        "colab": {}
      },
      "source": [
        "batch.image.toDriveByFeature(composite, collection=fc, property='site', folder='BAP_fc', name='APP_BAP', scale=30, dataType='float')"
      ],
      "execution_count": 0,
      "outputs": []
    }
  ]
}